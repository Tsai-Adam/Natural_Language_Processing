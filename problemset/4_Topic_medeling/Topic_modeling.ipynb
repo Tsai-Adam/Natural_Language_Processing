{
 "cells": [
  {
   "cell_type": "markdown",
   "metadata": {},
   "source": [
    "### Load and label the data"
   ]
  },
  {
   "cell_type": "code",
   "execution_count": 1,
   "metadata": {},
   "outputs": [],
   "source": [
    "import pandas as pd\n",
    "\n",
    "# Load the dataset\n",
    "df = pd.read_csv(\"hotel_reviews.csv\", header=0)\n",
    "df.columns = [\"review\", \"rating\"]\n",
    "\n",
    "# Keep only 1, 2, 4, and 5 star ratings\n",
    "df = df[df[\"rating\"].isin([1, 2, 4, 5])]\n",
    "\n",
    "# Create binary labels: 1 = positive review (4-5 stars), 0 = negative review (1-2 stars)\n",
    "df[\"label\"] = df[\"rating\"].apply(lambda x: 1 if x >= 4 else 0)\n"
   ]
  },
  {
   "cell_type": "markdown",
   "metadata": {},
   "source": [
    "### Text preprocessing (including tokenization, stopword removal, and stemming)"
   ]
  },
  {
   "cell_type": "code",
   "execution_count": 2,
   "metadata": {},
   "outputs": [
    {
     "name": "stderr",
     "output_type": "stream",
     "text": [
      "[nltk_data] Downloading package stopwords to /Users/adam/nltk_data...\n",
      "[nltk_data]   Package stopwords is already up-to-date!\n"
     ]
    }
   ],
   "source": [
    "import nltk\n",
    "from nltk.corpus import stopwords\n",
    "from nltk.stem import PorterStemmer\n",
    "from gensim.utils import simple_preprocess\n",
    "\n",
    "nltk.download(\"stopwords\")\n",
    "stop_words = set(stopwords.words(\"english\"))\n",
    "stemmer = PorterStemmer()\n",
    "\n",
    "# Define preprocessing function:\n",
    "# - lowercase and tokenize\n",
    "# - remove stopwords\n",
    "# - apply stemming\n",
    "def preprocess(text):\n",
    "    tokens = simple_preprocess(text, deacc=True)\n",
    "    tokens = [stemmer.stem(word) for word in tokens if word not in stop_words]\n",
    "    return tokens\n",
    "\n",
    "# Apply preprocessing to each review\n",
    "df[\"tokens\"] = df[\"review\"].astype(str).apply(preprocess)"
   ]
  },
  {
   "cell_type": "markdown",
   "metadata": {},
   "source": [
    "### Split into training and test sets"
   ]
  },
  {
   "cell_type": "code",
   "execution_count": 3,
   "metadata": {},
   "outputs": [],
   "source": [
    "from sklearn.model_selection import train_test_split\n",
    "\n",
    "X_train_tokens, X_test_tokens, y_train, y_test = train_test_split(\n",
    "    df[\"tokens\"], df[\"label\"], test_size=0.2, random_state=38)"
   ]
  },
  {
   "cell_type": "markdown",
   "metadata": {},
   "source": [
    "### Create dictionary and corpus (based only on the training set)"
   ]
  },
  {
   "cell_type": "code",
   "execution_count": 4,
   "metadata": {},
   "outputs": [],
   "source": [
    "from gensim.corpora import Dictionary\n",
    "from gensim.models import LdaModel\n",
    "\n",
    "# Create a dictionary and bag-of-words corpus for the training set\n",
    "dictionary = Dictionary(X_train_tokens)\n",
    "train_corpus = [dictionary.doc2bow(tokens) for tokens in X_train_tokens]\n",
    "test_corpus = [dictionary.doc2bow(tokens) for tokens in X_test_tokens]"
   ]
  },
  {
   "cell_type": "markdown",
   "metadata": {},
   "source": [
    "### Train multiple LDA models with different numbers of topics"
   ]
  },
  {
   "cell_type": "code",
   "execution_count": 5,
   "metadata": {},
   "outputs": [
    {
     "name": "stdout",
     "output_type": "stream",
     "text": [
      "Finish training lda_models 5\n",
      "Finish training lda_models 10\n",
      "Finish training lda_models 15\n",
      "Finish training lda_models 20\n",
      "Finish training lda_models 25\n",
      "Finish training lda_models 30\n"
     ]
    }
   ],
   "source": [
    "topic_nums = [5, 10, 15, 20, 25, 30]\n",
    "lda_models = {}\n",
    "\n",
    "for num_topics in topic_nums:\n",
    "    lda = LdaModel(corpus=train_corpus,\n",
    "                   id2word=dictionary,\n",
    "                   num_topics=num_topics,\n",
    "                   passes=10,\n",
    "                   random_state=38)\n",
    "    lda_models[num_topics] = lda\n",
    "    print(f\"Finish training lda_models {num_topics}\")"
   ]
  },
  {
   "cell_type": "markdown",
   "metadata": {},
   "source": [
    "### Convert each review to a topic distribution vector"
   ]
  },
  {
   "cell_type": "code",
   "execution_count": 6,
   "metadata": {},
   "outputs": [],
   "source": [
    "import numpy as np\n",
    "\n",
    "def get_topic_vector(model, corpus, num_topics):\n",
    "    topic_vecs = []\n",
    "    for doc_bow in corpus:\n",
    "        doc_topics = model.get_document_topics(doc_bow, minimum_probability=0)\n",
    "        vec = [prob for _, prob in sorted(doc_topics)]\n",
    "        topic_vecs.append(vec)\n",
    "    return np.array(topic_vecs)"
   ]
  },
  {
   "cell_type": "markdown",
   "metadata": {},
   "source": [
    "### Train classifiers and evaluate performance for each topic model"
   ]
  },
  {
   "cell_type": "code",
   "execution_count": 7,
   "metadata": {},
   "outputs": [
    {
     "name": "stdout",
     "output_type": "stream",
     "text": [
      "   num_topics  accuracy  f1_score       auc\n",
      "5          30  0.933097  0.960350  0.963578\n",
      "4          25  0.930912  0.959081  0.961322\n",
      "3          20  0.925724  0.956157  0.956010\n",
      "0           5  0.924085  0.955103  0.955224\n",
      "2          15  0.922447  0.954075  0.950704\n",
      "1          10  0.921354  0.953443  0.951551\n"
     ]
    }
   ],
   "source": [
    "from sklearn.linear_model import LogisticRegression\n",
    "from sklearn.metrics import accuracy_score, f1_score, roc_auc_score\n",
    "\n",
    "results = []\n",
    "\n",
    "for num_topics, lda_model in lda_models.items():\n",
    "    X_train_vec = get_topic_vector(lda_model, train_corpus, num_topics)\n",
    "    X_test_vec = get_topic_vector(lda_model, test_corpus, num_topics)\n",
    "    \n",
    "    clf = LogisticRegression(max_iter=1000)\n",
    "    clf.fit(X_train_vec, y_train)\n",
    "    y_pred = clf.predict(X_test_vec)\n",
    "    y_prob = clf.predict_proba(X_test_vec)[:, 1]\n",
    "\n",
    "    results.append({\n",
    "        \"num_topics\": num_topics,\n",
    "        \"accuracy\": accuracy_score(y_test, y_pred),\n",
    "        \"f1_score\": f1_score(y_test, y_pred),\n",
    "        \"auc\": roc_auc_score(y_test, y_prob)\n",
    "    })\n",
    "\n",
    "# Show results sorted by F1-score\n",
    "results_df = pd.DataFrame(results)\n",
    "print(results_df.sort_values(by=\"f1_score\", ascending=False))"
   ]
  },
  {
   "cell_type": "markdown",
   "metadata": {},
   "source": [
    "### Check predicted class distribution to make sure the classifier isn't biased"
   ]
  },
  {
   "cell_type": "code",
   "execution_count": 8,
   "metadata": {},
   "outputs": [
    {
     "name": "stdout",
     "output_type": "stream",
     "text": [
      "(array([0, 1]), array([ 522, 3140]))\n"
     ]
    }
   ],
   "source": [
    "import numpy as np\n",
    "\n",
    "print(np.unique(y_pred, return_counts=True))"
   ]
  },
  {
   "cell_type": "code",
   "execution_count": null,
   "metadata": {},
   "outputs": [],
   "source": []
  }
 ],
 "metadata": {
  "kernelspec": {
   "display_name": "NLP",
   "language": "python",
   "name": "python3"
  },
  "language_info": {
   "codemirror_mode": {
    "name": "ipython",
    "version": 3
   },
   "file_extension": ".py",
   "mimetype": "text/x-python",
   "name": "python",
   "nbconvert_exporter": "python",
   "pygments_lexer": "ipython3",
   "version": "3.12.8"
  }
 },
 "nbformat": 4,
 "nbformat_minor": 2
}
